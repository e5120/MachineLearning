{
 "cells": [
  {
   "cell_type": "markdown",
   "metadata": {},
   "source": [
    "# Machine Learning: Intermediate report\n",
    "\n",
    "+ Sho Shimadu (15B16510)"
   ]
  },
  {
   "cell_type": "markdown",
   "metadata": {},
   "source": [
    "Prepare an environment for running Python codes on Jupyter notebook. The most easiest way is to use [Google Colaboratory](https://colab.research.google.com/).\n",
    "\n",
    "Write codes for the following three (and one optional) problems, and submit the notebook (`.ipynb`) as well as its HTML conversion (`.html`). *We do not accept a report in other formats (e.g., Word, PDF)*. Write a code at the specified cell in the notebook. One can add more cells if necessary.\n",
    "\n",
    "These are the links to the sample codes used in the lecture:\n",
    "\n",
    "+ [Binary classification](https://github.com/chokkan/deeplearningclass/blob/master/mlp_binary.ipynb)\n",
    "+ [MNIST](https://github.com/chokkan/deeplearningclass/blob/master/mnist.ipynb)"
   ]
  },
  {
   "cell_type": "markdown",
   "metadata": {},
   "source": [
    "## 1. Multi-class classification on MNIST\n",
    "\n",
    "Train a model on the training set of MNIST, and report the accuracy of the model on the test set. One can use the same code shown in the lecture. Write a code here and show the output."
   ]
  },
  {
   "cell_type": "code",
   "execution_count": 79,
   "metadata": {
    "collapsed": true
   },
   "outputs": [],
   "source": [
    "import matplotlib.pyplot as plt\n",
    "import pylab\n",
    "\n",
    "import numpy as np\n",
    "\n",
    "import torch\n",
    "from torch import nn\n",
    "import torch.nn.functional as F\n",
    "from torch import optim\n",
    "from torch.autograd import Variable\n",
    "\n",
    "from torch.utils.data import DataLoader\n",
    "import torchvision.datasets as dsets\n",
    "import torchvision.transforms as transforms"
   ]
  },
  {
   "cell_type": "markdown",
   "metadata": {},
   "source": [
    "## 条件設定"
   ]
  },
  {
   "cell_type": "code",
   "execution_count": 3,
   "metadata": {},
   "outputs": [],
   "source": [
    "# 学習\n",
    "epochs = 10\n",
    "batch_size = 100"
   ]
  },
  {
   "cell_type": "markdown",
   "metadata": {},
   "source": [
    "## データセットの生成"
   ]
  },
  {
   "cell_type": "code",
   "execution_count": 9,
   "metadata": {},
   "outputs": [],
   "source": [
    "train_dataset = dsets.MNIST(root='./data', \n",
    "                            train=True, \n",
    "                            transform=transforms.ToTensor(),\n",
    "                            download=True)\n",
    "\n",
    "test_dataset = dsets.MNIST(root='./data', \n",
    "                           train=False, \n",
    "                           transform=transforms.ToTensor())\n",
    "\n",
    "train_loader = torch.utils.data.DataLoader(dataset=train_dataset, \n",
    "                                           batch_size=batch_size, \n",
    "                                           shuffle=True)\n",
    "\n",
    "test_loader = torch.utils.data.DataLoader(dataset=test_dataset, \n",
    "                                          batch_size=batch_size, \n",
    "                                          shuffle=False)"
   ]
  },
  {
   "cell_type": "markdown",
   "metadata": {},
   "source": [
    "## 学習用・評価用関数"
   ]
  },
  {
   "cell_type": "code",
   "execution_count": 10,
   "metadata": {},
   "outputs": [],
   "source": [
    "def train(train_loader):\n",
    "    model.train()\n",
    "    running_loss = 0\n",
    "    for batch_idx, (images, labels) in enumerate(train_loader):\n",
    "        images = Variable(images)\n",
    "        labels = Variable(labels)\n",
    "\n",
    "        optimizer.zero_grad()\n",
    "        outputs = model(images)\n",
    "\n",
    "        loss = criterion(outputs, labels)\n",
    "        running_loss += loss.data[0]\n",
    "\n",
    "        loss.backward()\n",
    "        optimizer.step()\n",
    "\n",
    "    train_loss = running_loss / len(train_loader)\n",
    "    \n",
    "    return train_loss\n",
    "\n",
    "\n",
    "def valid(test_loader):\n",
    "    model.eval()\n",
    "    running_loss = 0\n",
    "    correct = 0\n",
    "    total = 0\n",
    "    for batch_idx, (images, labels) in enumerate(test_loader):\n",
    "        images = Variable(images, volatile=True)\n",
    "        labels = Variable(labels, volatile=True)\n",
    "\n",
    "        outputs = model(images)\n",
    "\n",
    "        loss = criterion(outputs, labels)\n",
    "        running_loss += loss.data[0]\n",
    "\n",
    "        _, predicted = torch.max(outputs.data, 1)\n",
    "        correct += (predicted == labels.data).sum()\n",
    "        total += labels.size(0)\n",
    "\n",
    "    val_loss = running_loss / len(test_loader)\n",
    "    val_acc = correct / total\n",
    "    \n",
    "    return val_loss, val_acc"
   ]
  },
  {
   "cell_type": "markdown",
   "metadata": {},
   "source": [
    "## Neural Network"
   ]
  },
  {
   "cell_type": "code",
   "execution_count": 62,
   "metadata": {},
   "outputs": [],
   "source": [
    "class NN(nn.Module):\n",
    "    def __init__(self, in_, hidden_, out_):\n",
    "        super(NN, self).__init__()\n",
    "        self.hx = nn.Linear(in_, hidden_)\n",
    "        self.hy = nn.Linear(hidden_, out_)\n",
    " \n",
    "    def forward(self, x):\n",
    "        out = x.view(-1, 28 * 28)\n",
    "        out = F.relu(self.hx(out))\n",
    "        out = F.softmax(self.hy(out), dim=1)\n",
    "        return out"
   ]
  },
  {
   "cell_type": "code",
   "execution_count": 63,
   "metadata": {},
   "outputs": [],
   "source": [
    "model = NN(28*28, 20, 10)\n",
    "\n",
    "criterion = nn.CrossEntropyLoss()\n",
    "optimizer = optim.Adam(model.parameters())"
   ]
  },
  {
   "cell_type": "code",
   "execution_count": 64,
   "metadata": {},
   "outputs": [
    {
     "name": "stdout",
     "output_type": "stream",
     "text": [
      "epoch 0, loss: 1.7067 val_loss: 1.5760 val_acc: 0.9048\n",
      "epoch 1, loss: 1.5649 val_loss: 1.5513 val_acc: 0.9232\n",
      "epoch 2, loss: 1.5506 val_loss: 1.5441 val_acc: 0.9256\n",
      "epoch 3, loss: 1.5429 val_loss: 1.5379 val_acc: 0.9310\n",
      "epoch 4, loss: 1.5369 val_loss: 1.5366 val_acc: 0.9302\n",
      "epoch 5, loss: 1.5320 val_loss: 1.5309 val_acc: 0.9359\n",
      "epoch 6, loss: 1.5282 val_loss: 1.5282 val_acc: 0.9388\n",
      "epoch 7, loss: 1.5247 val_loss: 1.5268 val_acc: 0.9390\n",
      "epoch 8, loss: 1.5220 val_loss: 1.5248 val_acc: 0.9399\n",
      "epoch 9, loss: 1.5193 val_loss: 1.5227 val_acc: 0.9418\n"
     ]
    }
   ],
   "source": [
    "for epoch in range(epochs):\n",
    "    loss = train(train_loader)\n",
    "    val_loss, val_acc = valid(test_loader)\n",
    "\n",
    "    print('epoch %d, loss: %.4f val_loss: %.4f val_acc: %.4f'\n",
    "          % (epoch, loss, val_loss, val_acc))"
   ]
  },
  {
   "cell_type": "markdown",
   "metadata": {},
   "source": [
    "## 2. Confusion matrix\n",
    "\n",
    "Show a confusion matrix of the predictions of the model on the test set. This is an example of a confusion matrix.\n",
    "\n",
    "![example](example-confusion-matrix.png)\n",
    "\n",
    "Write a code here and show the confusion matrix."
   ]
  },
  {
   "cell_type": "code",
   "execution_count": 65,
   "metadata": {
    "collapsed": true
   },
   "outputs": [],
   "source": [
    "def confusion_matrix(test_loader):\n",
    "    model.eval()\n",
    "    mat = np.zeros((10, 10), dtype=int)\n",
    "    running_loss = 0\n",
    "    correct = 0\n",
    "    total = 0\n",
    "    for batch_idx, (images, labels) in enumerate(test_loader):\n",
    "        images = Variable(images, volatile=True)\n",
    "        labels = Variable(labels, volatile=True)\n",
    "\n",
    "        outputs = model(images)\n",
    "\n",
    "        _, predicted = torch.max(outputs.data, 1)\n",
    "        for pre, lab in zip(predicted, labels):\n",
    "            mat[int(pre), int(lab)] += 1\n",
    "\n",
    "    return mat"
   ]
  },
  {
   "cell_type": "code",
   "execution_count": 66,
   "metadata": {},
   "outputs": [
    {
     "data": {
      "text/plain": [
       "array([[ 960,    0,    8,    0,    1,    8,    7,    2,    3,   10],\n",
       "       [   0, 1108,    1,    0,    3,    1,    3,    5,    4,    5],\n",
       "       [   0,    7,  945,   18,    4,    2,    4,   24,    7,    1],\n",
       "       [   2,    3,   16,  942,    0,   21,    2,    5,   20,   17],\n",
       "       [   0,    0,   10,    0,  939,    5,    3,    5,    9,   31],\n",
       "       [   3,    1,    5,   19,    0,  817,   10,    1,   16,    7],\n",
       "       [  10,    3,    8,    2,    8,   13,  926,    0,    9,    1],\n",
       "       [   3,    2,   13,    8,    2,    1,    1,  966,    9,    7],\n",
       "       [   2,   11,   24,   14,    5,   18,    2,    4,  892,    7],\n",
       "       [   0,    0,    2,    7,   20,    6,    0,   16,    5,  923]])"
      ]
     },
     "execution_count": 66,
     "metadata": {},
     "output_type": "execute_result"
    }
   ],
   "source": [
    "confusion_matrix(test_loader)"
   ]
  },
  {
   "cell_type": "markdown",
   "metadata": {},
   "source": [
    "## 3. Top-3 confusing examples\n",
    "\n",
    "Show the top three images where the model misrecognized their digits with strong confidences. More specifically, let $y_n$ and $\\hat{y}_n$ the true and predicted, respectively, digits of the image $x_n$. We want to find three images with high $P(\\hat{y}_n | x_n)$ when $y_n \\neq \\hat{y}_n$.\n",
    "\n",
    "Please show $y_n$, $P(y_n | x_n)$, $\\hat{y}_n$, and $P(\\hat{y}_n | x_n)$. This is an example of an output for an image (you need this kind of outputs for top-three images).\n",
    "\n",
    "![example](example-confusing-sample.png)\n",
    "\n",
    "Write a code here and show the output."
   ]
  },
  {
   "cell_type": "code",
   "execution_count": 194,
   "metadata": {
    "collapsed": true
   },
   "outputs": [],
   "source": [
    "def confusion_example(test_loader, n=3):\n",
    "    model.eval()\n",
    "\n",
    "    la = np.array([], int)\n",
    "    out = np.array([], float)\n",
    "    pre = np.array([], int)\n",
    "    pro = np.array([], float)\n",
    "    im = np.array([])\n",
    "\n",
    "    for batch_idx, (images, labels) in enumerate(test_loader):\n",
    "        images_ = Variable(images, volatile=True)\n",
    "\n",
    "        outputs = model(images_)\n",
    "        prob, predicted = torch.max(outputs.data, 1)\n",
    "        \n",
    "        miss = np.where(predicted != labels)\n",
    "        if len(miss[0]) != 0:\n",
    "            la = np.append(la, labels[miss])\n",
    "            out = np.append(out, outputs[miss])\n",
    "            pre = np.append(pre, predicted[miss])\n",
    "            pro = np.append(pro, prob[miss])\n",
    "            im = np.append(im, images[miss])\n",
    "            \n",
    "    max_idx = np.argpartition(-pro, n)[:n]\n",
    "    im = im.reshape(-1, 28, 28)\n",
    "    for idx in max_idx:\n",
    "        print(\"True digit : {}({}) ; prediction : {}({})\".format(la[idx], float(out[idx]), pre[idx], pro[idx]))\n",
    "        image = im[idx]\n",
    "        plt.imshow(image)\n",
    "        plt.colorbar()\n",
    "        plt.show()"
   ]
  },
  {
   "cell_type": "code",
   "execution_count": 195,
   "metadata": {},
   "outputs": [
    {
     "name": "stdout",
     "output_type": "stream",
     "text": [
      "True digit : 2(3.7660656744264998e-06) ; prediction : 4(1.0)\n"
     ]
    },
    {
     "data": {
      "image/png": "[encoded data removed]",
      "text/plain": [
       "<Figure size 432x288 with 2 Axes>"
      ]
     },
     "metadata": {},
     "output_type": "display_data"
    },
    {
     "name": "stdout",
     "output_type": "stream",
     "text": [
      "True digit : 2(1.1081264261747492e-07) ; prediction : 7(0.9999999403953552)\n"
     ]
    },
    {
     "data": {
      "image/png": "[encoded data removed]",
      "text/plain": [
       "<Figure size 432x288 with 2 Axes>"
      ]
     },
     "metadata": {},
     "output_type": "display_data"
    },
    {
     "name": "stdout",
     "output_type": "stream",
     "text": [
      "True digit : 7(1.9362368492933414e-14) ; prediction : 2(0.9999998211860657)\n"
     ]
    },
    {
     "data": {
      "image/png": "[encoded data removed]",
      "text/plain": [
       "<Figure size 432x288 with 2 Axes>"
      ]
     },
     "metadata": {},
     "output_type": "display_data"
    }
   ],
   "source": [
    "confusion_example(test_loader)"
   ]
  },
  {
   "cell_type": "markdown",
   "metadata": {},
   "source": [
    "## 4. Sample codes in other DL frameworks\n",
    "\n",
    "(Advanced; optional) Implement one or more sample code(s) with a different deep learning framework (e.g., Chainer, TensorFlow, DyNet) corresponding to the slides 60-66 in binary classification. *When subitting an answer to this problem, please agree that some of the submitted codes will be distributed on the Web site to improve this lecture.*"
   ]
  },
  {
   "cell_type": "code",
   "execution_count": 45,
   "metadata": {
    "collapsed": true
   },
   "outputs": [],
   "source": [
    "import keras\n",
    "from keras import Sequential\n",
    "from keras.layers import Dense\n",
    "from keras.optimizers import SGD\n",
    "import numpy as np"
   ]
  },
  {
   "cell_type": "code",
   "execution_count": 59,
   "metadata": {},
   "outputs": [
    {
     "name": "stdout",
     "output_type": "stream",
     "text": [
      "Epoch 1/100\n",
      "4/4 [==============================] - 0s 55ms/step - loss: 0.7710\n",
      "Epoch 2/100\n",
      "4/4 [==============================] - 0s 249us/step - loss: 0.6461\n",
      "Epoch 3/100\n",
      "4/4 [==============================] - 0s 176us/step - loss: 0.5806\n",
      "Epoch 4/100\n",
      "4/4 [==============================] - 0s 190us/step - loss: 0.5443\n",
      "Epoch 5/100\n",
      "4/4 [==============================] - 0s 195us/step - loss: 0.5219\n",
      "Epoch 6/100\n",
      "4/4 [==============================] - 0s 185us/step - loss: 0.5060\n",
      "Epoch 7/100\n",
      "4/4 [==============================] - 0s 189us/step - loss: 0.4935\n",
      "Epoch 8/100\n",
      "4/4 [==============================] - 0s 174us/step - loss: 0.4829\n",
      "Epoch 9/100\n",
      "4/4 [==============================] - 0s 167us/step - loss: 0.4732\n",
      "Epoch 10/100\n",
      "4/4 [==============================] - 0s 170us/step - loss: 0.4643\n",
      "Epoch 11/100\n",
      "4/4 [==============================] - 0s 194us/step - loss: 0.4558\n",
      "Epoch 12/100\n",
      "4/4 [==============================] - 0s 200us/step - loss: 0.4478\n",
      "Epoch 13/100\n",
      "4/4 [==============================] - 0s 191us/step - loss: 0.4401\n",
      "Epoch 14/100\n",
      "4/4 [==============================] - 0s 205us/step - loss: 0.4326\n",
      "Epoch 15/100\n",
      "4/4 [==============================] - 0s 198us/step - loss: 0.4255\n",
      "Epoch 16/100\n",
      "4/4 [==============================] - 0s 197us/step - loss: 0.4186\n",
      "Epoch 17/100\n",
      "4/4 [==============================] - 0s 202us/step - loss: 0.4119\n",
      "Epoch 18/100\n",
      "4/4 [==============================] - 0s 210us/step - loss: 0.4055\n",
      "Epoch 19/100\n",
      "4/4 [==============================] - 0s 209us/step - loss: 0.3993\n",
      "Epoch 20/100\n",
      "4/4 [==============================] - 0s 170us/step - loss: 0.3933\n",
      "Epoch 21/100\n",
      "4/4 [==============================] - 0s 191us/step - loss: 0.3875\n",
      "Epoch 22/100\n",
      "4/4 [==============================] - 0s 194us/step - loss: 0.3818\n",
      "Epoch 23/100\n",
      "4/4 [==============================] - 0s 186us/step - loss: 0.3764\n",
      "Epoch 24/100\n",
      "4/4 [==============================] - 0s 208us/step - loss: 0.3711\n",
      "Epoch 25/100\n",
      "4/4 [==============================] - 0s 179us/step - loss: 0.3659\n",
      "Epoch 26/100\n",
      "4/4 [==============================] - 0s 221us/step - loss: 0.3610\n",
      "Epoch 27/100\n",
      "4/4 [==============================] - 0s 223us/step - loss: 0.3561\n",
      "Epoch 28/100\n",
      "4/4 [==============================] - 0s 177us/step - loss: 0.3514\n",
      "Epoch 29/100\n",
      "4/4 [==============================] - 0s 186us/step - loss: 0.3469\n",
      "Epoch 30/100\n",
      "4/4 [==============================] - 0s 189us/step - loss: 0.3424\n",
      "Epoch 31/100\n",
      "4/4 [==============================] - 0s 252us/step - loss: 0.3381\n",
      "Epoch 32/100\n",
      "4/4 [==============================] - 0s 187us/step - loss: 0.3339\n",
      "Epoch 33/100\n",
      "4/4 [==============================] - 0s 239us/step - loss: 0.3299\n",
      "Epoch 34/100\n",
      "4/4 [==============================] - 0s 187us/step - loss: 0.3259\n",
      "Epoch 35/100\n",
      "4/4 [==============================] - 0s 162us/step - loss: 0.3220\n",
      "Epoch 36/100\n",
      "4/4 [==============================] - 0s 208us/step - loss: 0.3182\n",
      "Epoch 37/100\n",
      "4/4 [==============================] - 0s 231us/step - loss: 0.3146\n",
      "Epoch 38/100\n",
      "4/4 [==============================] - 0s 180us/step - loss: 0.3110\n",
      "Epoch 39/100\n",
      "4/4 [==============================] - 0s 166us/step - loss: 0.3075\n",
      "Epoch 40/100\n",
      "4/4 [==============================] - 0s 203us/step - loss: 0.3041\n",
      "Epoch 41/100\n",
      "4/4 [==============================] - 0s 208us/step - loss: 0.3008\n",
      "Epoch 42/100\n",
      "4/4 [==============================] - 0s 186us/step - loss: 0.2975\n",
      "Epoch 43/100\n",
      "4/4 [==============================] - 0s 188us/step - loss: 0.2943\n",
      "Epoch 44/100\n",
      "4/4 [==============================] - 0s 203us/step - loss: 0.2912\n",
      "Epoch 45/100\n",
      "4/4 [==============================] - 0s 204us/step - loss: 0.2882\n",
      "Epoch 46/100\n",
      "4/4 [==============================] - 0s 208us/step - loss: 0.2852\n",
      "Epoch 47/100\n",
      "4/4 [==============================] - 0s 193us/step - loss: 0.2823\n",
      "Epoch 48/100\n",
      "4/4 [==============================] - 0s 186us/step - loss: 0.2795\n",
      "Epoch 49/100\n",
      "4/4 [==============================] - 0s 203us/step - loss: 0.2767\n",
      "Epoch 50/100\n",
      "4/4 [==============================] - 0s 167us/step - loss: 0.2740\n",
      "Epoch 51/100\n",
      "4/4 [==============================] - 0s 209us/step - loss: 0.2713\n",
      "Epoch 52/100\n",
      "4/4 [==============================] - 0s 160us/step - loss: 0.2687\n",
      "Epoch 53/100\n",
      "4/4 [==============================] - 0s 163us/step - loss: 0.2661\n",
      "Epoch 54/100\n",
      "4/4 [==============================] - 0s 183us/step - loss: 0.2636\n",
      "Epoch 55/100\n",
      "4/4 [==============================] - 0s 202us/step - loss: 0.2612\n",
      "Epoch 56/100\n",
      "4/4 [==============================] - 0s 185us/step - loss: 0.2588\n",
      "Epoch 57/100\n",
      "4/4 [==============================] - 0s 165us/step - loss: 0.2564\n",
      "Epoch 58/100\n",
      "4/4 [==============================] - 0s 204us/step - loss: 0.2541\n",
      "Epoch 59/100\n",
      "4/4 [==============================] - 0s 207us/step - loss: 0.2518\n",
      "Epoch 60/100\n",
      "4/4 [==============================] - 0s 297us/step - loss: 0.2496\n",
      "Epoch 61/100\n",
      "4/4 [==============================] - 0s 194us/step - loss: 0.2474\n",
      "Epoch 62/100\n",
      "4/4 [==============================] - 0s 183us/step - loss: 0.2453\n",
      "Epoch 63/100\n",
      "4/4 [==============================] - 0s 203us/step - loss: 0.2432\n",
      "Epoch 64/100\n",
      "4/4 [==============================] - 0s 194us/step - loss: 0.2411\n",
      "Epoch 65/100\n",
      "4/4 [==============================] - 0s 188us/step - loss: 0.2391\n",
      "Epoch 66/100\n",
      "4/4 [==============================] - 0s 228us/step - loss: 0.2371\n",
      "Epoch 67/100\n",
      "4/4 [==============================] - 0s 192us/step - loss: 0.2351\n",
      "Epoch 68/100\n",
      "4/4 [==============================] - 0s 208us/step - loss: 0.2332\n",
      "Epoch 69/100\n",
      "4/4 [==============================] - 0s 188us/step - loss: 0.2313\n",
      "Epoch 70/100\n",
      "4/4 [==============================] - 0s 187us/step - loss: 0.2294\n",
      "Epoch 71/100\n",
      "4/4 [==============================] - 0s 170us/step - loss: 0.2276\n",
      "Epoch 72/100\n",
      "4/4 [==============================] - 0s 188us/step - loss: 0.2258\n",
      "Epoch 73/100\n",
      "4/4 [==============================] - 0s 185us/step - loss: 0.2240\n",
      "Epoch 74/100\n",
      "4/4 [==============================] - 0s 218us/step - loss: 0.2222\n",
      "Epoch 75/100\n",
      "4/4 [==============================] - 0s 195us/step - loss: 0.2205\n",
      "Epoch 76/100\n",
      "4/4 [==============================] - 0s 223us/step - loss: 0.2188\n",
      "Epoch 77/100\n",
      "4/4 [==============================] - 0s 164us/step - loss: 0.2172\n",
      "Epoch 78/100\n",
      "4/4 [==============================] - 0s 205us/step - loss: 0.2155\n",
      "Epoch 79/100\n",
      "4/4 [==============================] - 0s 167us/step - loss: 0.2139\n",
      "Epoch 80/100\n",
      "4/4 [==============================] - 0s 176us/step - loss: 0.2123\n",
      "Epoch 81/100\n",
      "4/4 [==============================] - 0s 181us/step - loss: 0.2108\n",
      "Epoch 82/100\n",
      "4/4 [==============================] - 0s 433us/step - loss: 0.2092\n",
      "Epoch 83/100\n",
      "4/4 [==============================] - 0s 203us/step - loss: 0.2077\n",
      "Epoch 84/100\n",
      "4/4 [==============================] - 0s 187us/step - loss: 0.2062\n",
      "Epoch 85/100\n",
      "4/4 [==============================] - 0s 203us/step - loss: 0.2047\n",
      "Epoch 86/100\n",
      "4/4 [==============================] - 0s 189us/step - loss: 0.2033\n",
      "Epoch 87/100\n",
      "4/4 [==============================] - 0s 170us/step - loss: 0.2018\n",
      "Epoch 88/100\n",
      "4/4 [==============================] - 0s 168us/step - loss: 0.2004\n",
      "Epoch 89/100\n",
      "4/4 [==============================] - 0s 161us/step - loss: 0.1990\n",
      "Epoch 90/100\n",
      "4/4 [==============================] - 0s 155us/step - loss: 0.1977\n",
      "Epoch 91/100\n",
      "4/4 [==============================] - 0s 199us/step - loss: 0.1963\n",
      "Epoch 92/100\n",
      "4/4 [==============================] - 0s 251us/step - loss: 0.1950\n",
      "Epoch 93/100\n",
      "4/4 [==============================] - 0s 231us/step - loss: 0.1937\n",
      "Epoch 94/100\n",
      "4/4 [==============================] - 0s 230us/step - loss: 0.1924\n",
      "Epoch 95/100\n",
      "4/4 [==============================] - 0s 188us/step - loss: 0.1911\n",
      "Epoch 96/100\n",
      "4/4 [==============================] - 0s 206us/step - loss: 0.1898\n",
      "Epoch 97/100\n",
      "4/4 [==============================] - 0s 167us/step - loss: 0.1886\n",
      "Epoch 98/100\n",
      "4/4 [==============================] - 0s 186us/step - loss: 0.1873\n",
      "Epoch 99/100\n",
      "4/4 [==============================] - 0s 190us/step - loss: 0.1861\n",
      "Epoch 100/100\n",
      "4/4 [==============================] - 0s 184us/step - loss: 0.1849\n"
     ]
    },
    {
     "data": {
      "text/plain": [
       "<keras.callbacks.History at 0x7f0f000d82e8>"
      ]
     },
     "execution_count": 59,
     "metadata": {},
     "output_type": "execute_result"
    }
   ],
   "source": [
    "x = np.array([[0, 0, 1], [0, 1, 1], [1, 0, 1], [1, 1, 1]])\n",
    "y = np.array([[1], [1], [1], [0]])\n",
    "\n",
    "model = keras.Sequential()\n",
    "model.add(Dense(1, activation=\"sigmoid\", input_shape=(3,)))\n",
    "optimizer = SGD(lr=0.5)\n",
    "model.compile(optimizer=optimizer, loss=\"binary_crossentropy\")\n",
    "\n",
    "model.fit(x, y, epochs=100)"
   ]
  },
  {
   "cell_type": "code",
   "execution_count": 60,
   "metadata": {},
   "outputs": [
    {
     "name": "stdout",
     "output_type": "stream",
     "text": [
      "predict=1, prob=[[0.98266166]]\n",
      "predict=1, prob=[[0.82348186]]\n",
      "predict=1, prob=[[0.82889146]]\n",
      "predict=0, prob=[[0.28507355]]\n"
     ]
    }
   ],
   "source": [
    "pred = model.predict(np.array([[0, 0, 1]]))\n",
    "print(\"predict={}, prob={}\".format(1 if pred > 0.5 else 0, pred))\n",
    "\n",
    "pred = model.predict(np.array([[1, 0, 1]]))\n",
    "print(\"predict={}, prob={}\".format(1 if pred > 0.5 else 0, pred))\n",
    "\n",
    "pred = model.predict(np.array([[0, 1, 1]]))\n",
    "print(\"predict={}, prob={}\".format(1 if pred > 0.5 else 0, pred))\n",
    "\n",
    "pred = model.predict(np.array([[1, 1, 1]]))\n",
    "print(\"predict={}, prob={}\".format(1 if pred > 0.5 else 0, pred))"
   ]
  }
 ],
 "metadata": {
  "kernelspec": {
   "display_name": "Python 3",
   "language": "python",
   "name": "python3"
  },
  "language_info": {
   "codemirror_mode": {
    "name": "ipython",
    "version": 3
   },
   "file_extension": ".py",
   "mimetype": "text/x-python",
   "name": "python",
   "nbconvert_exporter": "python",
   "pygments_lexer": "ipython3",
   "version": "3.6.5"
  }
 },
 "nbformat": 4,
 "nbformat_minor": 2
}
