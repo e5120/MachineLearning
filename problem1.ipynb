{
 "cells": [
  {
   "cell_type": "code",
   "execution_count": 496,
   "metadata": {},
   "outputs": [],
   "source": [
    "%matplotlib inline\n",
    "import numpy as np\n",
    "import random\n",
    "import matplotlib.pyplot as plt"
   ]
  },
  {
   "cell_type": "markdown",
   "metadata": {},
   "source": [
    "## Dataset I"
   ]
  },
  {
   "cell_type": "code",
   "execution_count": 567,
   "metadata": {},
   "outputs": [
    {
     "data": {
      "image/png": "[encoded data removed]",
      "text/plain": [
       "<Figure size 432x288 with 1 Axes>"
      ]
     },
     "metadata": {},
     "output_type": "display_data"
    }
   ],
   "source": [
    "n = 100\n",
    "# input\n",
    "x = 3 * (np.random.rand(n, 2) - 0.5)\n",
    "\n",
    "radius = np.square(x[:, 0]) + np.square(x[:, 1])\n",
    "radius = np.reshape(radius, (n, 1))\n",
    "y = (radius > 0.7 + 0.1 * np.random.randn(n, 1)) & (radius < 2.2 + 0.1 * np.random.randn(n, 1))\n",
    "y = np.reshape(y, (n,))\n",
    "x_true = x[np.where(y == True)]\n",
    "x_false = x[np.where(y == False)]\n",
    "\n",
    "# label\n",
    "y = 2 * y - 1\n",
    "\n",
    "plt.scatter(x_false[:, 1], x_false[:, 0])\n",
    "plt.scatter(x_true[:, 0], x_true[:, 1])\n",
    "plt.show()"
   ]
  },
  {
   "cell_type": "markdown",
   "metadata": {},
   "source": [
    "## Dataset II"
   ]
  },
  {
   "cell_type": "code",
   "execution_count": 569,
   "metadata": {},
   "outputs": [
    {
     "data": {
      "image/png": "[encoded data removed]",
      "text/plain": [
       "<Figure size 432x288 with 1 Axes>"
      ]
     },
     "metadata": {},
     "output_type": "display_data"
    }
   ],
   "source": [
    "n = 40\n",
    "omega = np.random.randn(1,)\n",
    "noise = 0.8 * np.random.randn(n,)\n",
    "# input\n",
    "x = np.random.randn(n, 2)\n",
    "y = omega * x[:, 0] + x[:, 1] + noise > 0\n",
    "\n",
    "x_true = x[np.where((y==True))]\n",
    "x_false = x[np.where((y==False))]\n",
    "\n",
    "# label\n",
    "y = 2 * y - 1\n",
    "\n",
    "plt.scatter(x_false[:, 1], x_false[:, 0])\n",
    "plt.scatter(x_true[:, 0], x_true[:, 1])\n",
    "plt.show()"
   ]
  },
  {
   "cell_type": "markdown",
   "metadata": {},
   "source": [
    "## 基底クラス"
   ]
  },
  {
   "cell_type": "code",
   "execution_count": 582,
   "metadata": {},
   "outputs": [],
   "source": [
    "class Sigmoid:\n",
    "    def __init__(self, dim, lr, lam):\n",
    "        # 重みの初期化は下記のいずれか(損失の変化が比較できるので，今回はゼロで初期化)\n",
    "        # self.weight = np.random.randn(dim)\n",
    "        self.weight = np.zeros(dim)\n",
    "        self.lr = lr\n",
    "        self.lam = lam\n",
    "        self.loss_history = np.zeros(0)\n",
    "\n",
    "    def sigmoid(self, x, y):\n",
    "        return 1 / (1 + np.exp(-y * np.dot(self.weight, x)))\n",
    "\n",
    "    def grad(self, x, y):\n",
    "        return (self.sigmoid(x, y) - 1.0) * y * x\n",
    "\n",
    "    def hessian(self, x, y):\n",
    "        _x = np.array([x])\n",
    "        _x_t = _x.transpose()\n",
    "        p = self.sigmoid(x, y)\n",
    "        # 本当はy^2も掛ける必要があるが，今回の場合は1 or -1なので省略\n",
    "        return p * (1 - p) * _x * _x_t\n",
    "    \n",
    "    def predict(self, x, y):\n",
    "        return np.log(self.sigmoid(x, y)**-1) + self.lam * np.linalg.norm(x)\n",
    "    \n",
    "    def classifier(self, x):\n",
    "        return 1 if np.dot(self.weight, x) > 0 else -1"
   ]
  },
  {
   "cell_type": "markdown",
   "metadata": {},
   "source": [
    "## 最急降下法"
   ]
  },
  {
   "cell_type": "code",
   "execution_count": 596,
   "metadata": {},
   "outputs": [],
   "source": [
    "class GradientMethod(Sigmoid):\n",
    "    def __init__(self, dim=2, lr=0.1, lam=0.001):\n",
    "        super(GradientMethod, self).__init__(dim, lr, lam)\n",
    "\n",
    "    def train(self, x, y, epochs=10):\n",
    "        self.loss_history = np.zeros(epochs)\n",
    "        for epoch in range(epochs):\n",
    "            _grad = np.zeros(2)\n",
    "            _loss = 0.0\n",
    "            for i in range(len(x)):\n",
    "                _grad += self.grad(x[i], y[i])\n",
    "                _loss += self.predict(x[i], y[i])\n",
    "            _grad = _grad / len(x) + 2 * self.lam * self.weight \n",
    "            self.weight -= self.lr * _grad\n",
    "\n",
    "            _loss = _loss / len(x)\n",
    "            self.loss_history[epoch] = _loss            \n",
    "            print(\"loss = {}\".format(_loss)) "
   ]
  },
  {
   "cell_type": "code",
   "execution_count": 597,
   "metadata": {},
   "outputs": [
    {
     "name": "stdout",
     "output_type": "stream",
     "text": [
      "loss = 0.6944835449342605\n",
      "loss = 0.6742860357587834\n",
      "loss = 0.6553000788497406\n",
      "loss = 0.6374489534054493\n",
      "loss = 0.6206588132461444\n",
      "loss = 0.6048591108632231\n",
      "loss = 0.5899828811634084\n",
      "loss = 0.5759669056540855\n",
      "loss = 0.5627517778777744\n",
      "loss = 0.550281889780601\n",
      "loss = 0.5385053568350424\n",
      "loss = 0.5273738974883434\n",
      "loss = 0.5168426801411871\n",
      "loss = 0.5068701485600005\n",
      "loss = 0.49741783450522475\n",
      "loss = 0.48845016447853873\n",
      "loss = 0.4799342658777409\n",
      "loss = 0.47183977649653375\n",
      "loss = 0.46413866019985867\n",
      "loss = 0.4568050307174242\n",
      "loss = 0.44981498479888665\n",
      "loss = 0.44314644543410814\n",
      "loss = 0.4367790154331475\n",
      "loss = 0.43069384135822275\n",
      "loss = 0.4248734875823096\n",
      "loss = 0.4193018200980318\n",
      "loss = 0.41396389960108604\n",
      "loss = 0.4088458833122629\n",
      "loss = 0.40393493497145744\n",
      "loss = 0.399219142427999\n",
      "loss = 0.39468744225818686\n",
      "loss = 0.390329550858284\n",
      "loss = 0.3861359014858572\n",
      "loss = 0.38209758675150207\n",
      "loss = 0.37820630609463335\n",
      "loss = 0.3744543178096778\n",
      "loss = 0.37083439522160827\n",
      "loss = 0.3673397866415568\n",
      "loss = 0.3639641787637469\n",
      "loss = 0.3607016631938643\n",
      "loss = 0.3575467058260736\n",
      "loss = 0.3544941188110752\n",
      "loss = 0.35153903488090543\n",
      "loss = 0.3486768838176126\n",
      "loss = 0.3459033708725906\n",
      "loss = 0.34321445696129915\n",
      "loss = 0.3406063404744467\n",
      "loss = 0.3380754405615808\n",
      "loss = 0.33561838175652486\n",
      "loss = 0.3332319798263229\n"
     ]
    }
   ],
   "source": [
    "gm = GradientMethod()\n",
    "gm.train(x, y, 50)"
   ]
  },
  {
   "cell_type": "code",
   "execution_count": 598,
   "metadata": {},
   "outputs": [],
   "source": [
    "class NewtonMethod(Sigmoid):\n",
    "    def __init__(self, dim=2, lr=0.1, lam=0.001):\n",
    "        super(NewtonMethod, self).__init__(dim, lr, lam)\n",
    "        self.dim = dim\n",
    "            \n",
    "    def train(self, x, y, epochs=10):\n",
    "        self.loss_history = np.zeros(epochs)\n",
    "        for epoch in range(epochs):\n",
    "            _grad = np.zeros(2)\n",
    "            _hesse = np.zeros((2,2))\n",
    "            _loss = 0.0\n",
    "            for i in range(len(x)):\n",
    "                _grad += self.grad(x[i], y[i])\n",
    "                _hesse += self.hessian(x[i], y[i])\n",
    "                _loss += self.predict(x[i], y[i])\n",
    "            _grad = _grad / len(x) + 2 * self.lam * self.weight\n",
    "            _hesse = _hesse / len(x) + 2 * self.lam * np.identity(self.dim)\n",
    "            self.weight -= (self.lr * np.matrix(_grad) * np.linalg.inv(_hesse)).A1\n",
    "\n",
    "            _loss = _loss / len(x)\n",
    "            self.loss_history[epoch] = _loss            \n",
    "            print(\"loss = {}\".format(_loss)) "
   ]
  },
  {
   "cell_type": "code",
   "execution_count": 599,
   "metadata": {},
   "outputs": [
    {
     "name": "stdout",
     "output_type": "stream",
     "text": [
      "loss = 0.6944835449342605\n",
      "loss = 0.629985886617829\n",
      "loss = 0.5769339733541332\n",
      "loss = 0.532249329138815\n",
      "loss = 0.4939487465337441\n",
      "loss = 0.4606833422834396\n",
      "loss = 0.43149590019484485\n",
      "loss = 0.4056833963223892\n",
      "loss = 0.3827145174577943\n",
      "loss = 0.362177832189719\n",
      "loss = 0.34374795170291733\n",
      "loss = 0.32716270673394365\n",
      "loss = 0.3122073152767305\n",
      "loss = 0.29870312454157344\n",
      "loss = 0.2864994283441498\n",
      "loss = 0.2754674047099947\n",
      "loss = 0.265495550945991\n",
      "loss = 0.25648620203298034\n",
      "loss = 0.24835285153299563\n",
      "loss = 0.2410180804134451\n",
      "loss = 0.2344119552408686\n",
      "loss = 0.22847079377328972\n",
      "loss = 0.22313622006152686\n",
      "loss = 0.2183544474085192\n",
      "loss = 0.2140757390175362\n",
      "loss = 0.2102540048606149\n",
      "loss = 0.20684650039844055\n",
      "loss = 0.20381359891459355\n",
      "loss = 0.20111861467481518\n",
      "loss = 0.19872765897713715\n",
      "loss = 0.19660951542947974\n",
      "loss = 0.19473552446866133\n",
      "loss = 0.19307947022397515\n",
      "loss = 0.1916174653570189\n",
      "loss = 0.19032783152225224\n",
      "loss = 0.18919097464390805\n",
      "loss = 0.18818925535051254\n",
      "loss = 0.18730685570273944\n",
      "loss = 0.18652964384528167\n",
      "loss = 0.18584503845847095\n",
      "loss = 0.18524187492885277\n",
      "loss = 0.18471027504698354\n",
      "loss = 0.184241521820449\n",
      "loss = 0.18382794070200564\n",
      "loss = 0.18346278821303857\n",
      "loss = 0.18314014862084813\n",
      "loss = 0.18285483902693928\n",
      "loss = 0.1826023229575921\n",
      "loss = 0.18237863232602639\n",
      "loss = 0.18218029746048162\n"
     ]
    }
   ],
   "source": [
    "nm = NewtonMethod()\n",
    "nm.train(x, y, 50)"
   ]
  },
  {
   "cell_type": "markdown",
   "metadata": {},
   "source": [
    "## 確認用\n",
    "学習データをそのままpredictしているので，汎化性を確認するものでないことに注意\n",
    "\n",
    "あくまで，学習データにフィットしているか確認するもの"
   ]
  },
  {
   "cell_type": "code",
   "execution_count": 600,
   "metadata": {},
   "outputs": [
    {
     "name": "stdout",
     "output_type": "stream",
     "text": [
      "0.95\n",
      "0.95\n"
     ]
    }
   ],
   "source": [
    "def train_data_accuracy(model, x, y, debug=False):\n",
    "    count = 0\n",
    "    for i in range(len(x)):\n",
    "        if debug:\n",
    "            print(model.classifier(x[i]), y[i])\n",
    "        count = count + 1 if model.classifier(x[i]) == y[i] else count\n",
    "    print(count / len(x))\n",
    "    \n",
    "train_data_accuracy(gm, x, y)\n",
    "train_data_accuracy(nm, x, y)"
   ]
  },
  {
   "cell_type": "code",
   "execution_count": 612,
   "metadata": {},
   "outputs": [
    {
     "data": {
      "image/png": "[encoded data removed]",
      "text/plain": [
       "<Figure size 432x288 with 1 Axes>"
      ]
     },
     "metadata": {},
     "output_type": "display_data"
    }
   ],
   "source": [
    "x_axis = np.arange(50)\n",
    "plt.xlabel(\"iteration\")\n",
    "plt.ylabel(\"J(w)\")\n",
    "plt.plot(x_axis, gm.loss_history, label=\"steepest gradient method\")\n",
    "plt.plot(x_axis, nm.loss_history, label=\"newton's method\")\n",
    "plt.legend()\n",
    "plt.show()"
   ]
  }
 ],
 "metadata": {
  "kernelspec": {
   "display_name": "Python 3",
   "language": "python",
   "name": "python3"
  },
  "language_info": {
   "codemirror_mode": {
    "name": "ipython",
    "version": 3
   },
   "file_extension": ".py",
   "mimetype": "text/x-python",
   "name": "python",
   "nbconvert_exporter": "python",
   "pygments_lexer": "ipython3",
   "version": "3.6.5"
  }
 },
 "nbformat": 4,
 "nbformat_minor": 2
}
